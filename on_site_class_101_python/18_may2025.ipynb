{
  "cells": [
    {
      "cell_type": "markdown",
      "metadata": {
        "id": "NyzJ-AK_dgIk"
      },
      "source": [
        "# **Topics**   \n",
        "1. Augmented Assignment Operators (`+=, -=, *=, /=, %=, //=`)\n",
        "2. Warlus Operators (`:=)\n",
        "3. Comparison Operators (`==, <, >, <=, >=, !=`)\n",
        "4. Logical Operators (`and, or, not`)\n",
        "5. Control Flow"
      ]
    },
    {
      "cell_type": "markdown",
      "metadata": {
        "id": "O3ZtU3sxfXIy"
      },
      "source": [
        "## **Python Augmented Assignment Operators**\n",
        "\n",
        "\n",
        "| Operator | Name | Example | Equivalent to |\n",
        "|----------|------|---------|---------------|\n",
        "| `+=` | Addition and assign | `x += y` | `x = x + y` |\n",
        "| `-=` | Subtraction and assign | `x -= y` | `x = x - y` |\n",
        "| `*=` | Multiplication and assign | `x *= y` | `x = x * y` |\n",
        "| `/=` | Division and assign | `x /= y` | `x = x / y` |\n",
        "| `%=` | Modulus and assign | `x %= y` | `x = x % y` |\n",
        "| `//=` | Floor division and assign | `x //= y` | `x = x // y` |\n",
        "| `**=` | Exponentiation and assign | `x **= y` | `x = x ** y` |\n",
        "\n",
        "## **Comparison Operators**   \n",
        "\n",
        "| Operator | Name | Example | Explanation |\n",
        "|----------|------|---------|-------------|\n",
        "| `==` | Equal to | `x == y` | Returns `True` if both values are equal |\n",
        "| `!=` | Not equal to | `x != y` | Returns `True` if values are not equal |\n",
        "| `>` | Greater than | `x > y` | Returns `True` if x is greater than y |\n",
        "| `<` | Less than | `x < y` | Returns `True` if x is less than y |\n",
        "| `>=` | Greater than or equal to | `x >= y` | Returns `True` if x is greater than or equal to y |\n",
        "| `<=` | Less than or equal to | `x <= y` | Returns `True` if x is less than or equal to y |\n",
        "| `is` | Identity | `x is y` | Returns `True` if both variables reference the same object |\n",
        "| `is not` | Negated identity | `x is not y` | Returns `True` if variables reference different objects |\n",
        "| `in` | Membership | `x in y` | Returns `True` if x is found in the sequence y |\n",
        "| `not in` | Negated membership | `x not in y` | Returns `True` if x is not found in the sequence y |\n",
        "\n",
        "## **Logical Operators**\n",
        "\n",
        "| Operator | Name | Example | Explanation |\n",
        "|----------|------|---------|-------------|\n",
        "| `and` | Logical AND | `x and y` | Returns `True` if both statements are true |\n",
        "| `or` | Logical OR | `x or y` | Returns `True` if at least one statement is true |\n",
        "| `not` | Logical NOT | `not x` | Returns `True` if the statement is false |\n"
      ]
    },
    {
      "cell_type": "markdown",
      "metadata": {
        "id": "nMgwdaWbgoFA"
      },
      "source": [
        "\n"
      ]
    },
    {
      "cell_type": "code",
      "execution_count": null,
      "metadata": {
        "id": "5KoGLhwqoNIl"
      },
      "outputs": [],
      "source": [
        "# Falsy Values\n",
        "value_01 : None = None\n",
        "value_02 : int = 0\n",
        "value_03 : float = 0.0\n",
        "value_04 : str = \"\"\n",
        "Value_05 : bool = False\n",
        "value_06 : list[None] = []\n",
        "\n",
        "print(f\"The value '{value_01}' evaluates to: {bool(value_01)} \\n\")\n",
        "print(f\"The value '{value_02}' evaluates to: {bool(value_02)} \\n\")\n",
        "print(f\"The value '{value_03}' evaluates to: {bool(value_03)} \\n\")\n",
        "print(f\"The value '{value_04}' evaluates to: {bool(value_04)} \\n\")\n",
        "print(f\"The value '{Value_05}' evaluates to: {bool(Value_05)} \\n\")\n",
        "print(f\"The value '{value_06}' evaluates to: {bool(value_06)} \\n\")\n"
      ]
    },
    {
      "cell_type": "code",
      "execution_count": null,
      "metadata": {
        "colab": {
          "base_uri": "https://localhost:8080/"
        },
        "id": "abLjaCrJnHh8",
        "outputId": "ab162070-3d5e-4b26-e15a-1f7745eb8039"
      },
      "outputs": [
        {
          "name": "stdout",
          "output_type": "stream",
          "text": [
            "False\n",
            "False\n",
            "True\n",
            "True\n",
            "False\n",
            "True\n",
            "False\n"
          ]
        }
      ],
      "source": [
        "# = -> assignment\n",
        "print(\"rehan\" == 'Rehan')\n",
        "print(4 == 5)\n",
        "print(2 != 4) # evaluate to True\n",
        "print(8 < 10)\n",
        "print(8 > 10)\n",
        "print(8 <= 8)\n",
        "print(8 >= 9)"
      ]
    },
    {
      "cell_type": "code",
      "execution_count": null,
      "metadata": {
        "colab": {
          "base_uri": "https://localhost:8080/"
        },
        "id": "Hf0K32KsGX81",
        "outputId": "eebc44a8-5b03-4576-d9ad-1ca3286b341e"
      },
      "outputs": [
        {
          "name": "stdout",
          "output_type": "stream",
          "text": [
            "40\n"
          ]
        }
      ],
      "source": [
        "age: int = 30\n",
        "result = age + 10\n",
        "print(result)"
      ]
    },
    {
      "cell_type": "code",
      "execution_count": null,
      "metadata": {
        "colab": {
          "base_uri": "https://localhost:8080/"
        },
        "id": "eW0hAnyWGh9r",
        "outputId": "3e21431c-41e8-455b-9d07-d187068666a4"
      },
      "outputs": [
        {
          "name": "stdout",
          "output_type": "stream",
          "text": [
            "40\n"
          ]
        }
      ],
      "source": [
        "age: int = 30\n",
        "age = age + 10\n",
        "print(age)"
      ]
    },
    {
      "cell_type": "code",
      "execution_count": null,
      "metadata": {
        "colab": {
          "base_uri": "https://localhost:8080/"
        },
        "id": "DSwetiADGrdC",
        "outputId": "9ab79078-13d5-4c01-ef0d-afd2d13fbb31"
      },
      "outputs": [
        {
          "name": "stdout",
          "output_type": "stream",
          "text": [
            "40\n"
          ]
        }
      ],
      "source": [
        "age: int = 30\n",
        "\n",
        "age += 10\n",
        "print(age)"
      ]
    },
    {
      "cell_type": "code",
      "execution_count": 1,
      "metadata": {},
      "outputs": [
        {
          "name": "stdout",
          "output_type": "stream",
          "text": [
            "20\n"
          ]
        }
      ],
      "source": [
        "age: int = 30\n",
        "\n",
        "age -= 10\n",
        "print(age)"
      ]
    },
    {
      "cell_type": "code",
      "execution_count": null,
      "metadata": {
        "colab": {
          "base_uri": "https://localhost:8080/"
        },
        "id": "Hx1NonCDHAcr",
        "outputId": "7d826fec-beb4-4fc9-a4f4-da09bb592e2a"
      },
      "outputs": [
        {
          "name": "stdout",
          "output_type": "stream",
          "text": [
            "False\n"
          ]
        }
      ],
      "source": [
        "name = 'rehan'\n",
        "name2 = 'usman'\n",
        "\n",
        "print(name == name2)"
      ]
    },
    {
      "cell_type": "code",
      "execution_count": null,
      "metadata": {
        "id": "qbv7PPPeHVQL"
      },
      "outputs": [],
      "source": [
        "# The capital of Pakistan is Islamabad\n",
        "# yes, no, maybe\n",
        "# yes, no --> True, False"
      ]
    },
    {
      "cell_type": "code",
      "execution_count": null,
      "metadata": {
        "colab": {
          "base_uri": "https://localhost:8080/"
        },
        "id": "7Uanz868Ivbj",
        "outputId": "158bf601-41e8-4560-bc98-59d1665e78e9"
      },
      "outputs": [
        {
          "name": "stdout",
          "output_type": "stream",
          "text": [
            "usman\n"
          ]
        }
      ],
      "source": [
        "name = 'usman'\n",
        "print(name)\n"
      ]
    },
    {
      "cell_type": "code",
      "execution_count": null,
      "metadata": {
        "colab": {
          "base_uri": "https://localhost:8080/"
        },
        "id": "3iRafvq6I5Xf",
        "outputId": "bf354b01-7390-47ef-d9db-b6de8707b854"
      },
      "outputs": [
        {
          "name": "stdout",
          "output_type": "stream",
          "text": [
            "Musa\n"
          ]
        }
      ],
      "source": [
        "# warlus operation :=\n",
        "# print(name5)\n",
        "print(name5:='Musa')"
      ]
    },
    {
      "cell_type": "code",
      "execution_count": null,
      "metadata": {
        "colab": {
          "base_uri": "https://localhost:8080/"
        },
        "id": "_gYGLvPOJVQC",
        "outputId": "668339bd-ad48-4cd4-8f1c-c1c459d8e032"
      },
      "outputs": [
        {
          "name": "stdout",
          "output_type": "stream",
          "text": [
            "False\n"
          ]
        }
      ],
      "source": [
        "age6 = 17\n",
        "nationality = 'pakistan'\n",
        "\n",
        "#logical operatos and, or, not\n",
        "print(age6 == 17 and nationality=='pakistani')\n",
        "\n",
        "# short-circuit evaluation\n",
        "\n",
        "# True and True -> True\n",
        "# False and True -> False\n",
        "# True and False -> False\n",
        "# False and False -> False\n",
        "\n",
        "# mutilication 0-> Flase 1-> True\n",
        "# 0 * 1 = 0\n",
        "# 0 * 0 = 0\n",
        "# 1 * 0 = 0\n",
        "# 1 * 1 = 1\n",
        "\n",
        "# or\n",
        "# Addition 0-> Flase 1-> True\n",
        "# 0 + 1 = 1\n",
        "# 0 + 0 = 0\n",
        "# 1 + 0 = 1\n",
        "# 1 + 1 = 1\n",
        "\n",
        "print(age6 == 17 or nationality=='pakistani')\n",
        "\n",
        "# short-circuit evaluaiton\n",
        "\n",
        "# True or True -> True\n",
        "# False or True -> True\n",
        "# True or False -> True\n",
        "# False or False -> False"
      ]
    },
    {
      "cell_type": "code",
      "execution_count": null,
      "metadata": {
        "colab": {
          "base_uri": "https://localhost:8080/"
        },
        "id": "FOylk0O9MTXr",
        "outputId": "a6ea9412-4055-460b-9bd6-280c42a463b1"
      },
      "outputs": [
        {
          "name": "stdout",
          "output_type": "stream",
          "text": [
            "Passport issue\n"
          ]
        }
      ],
      "source": [
        "# control flows\n",
        "\n",
        "user_age = 18\n",
        "nationality = 'pakistan'\n",
        "\n",
        "# if user_ age  > = 18 and nationality == Pakistan \"passport issue else your are too young not eligible \"\n",
        "\n",
        "if user_age >=18 and  nationality == \"pakistan\":\n",
        "  print(\"Passport issue\")\n",
        "else:\n",
        "  print(\"you are too young\")\n"
      ]
    },
    {
      "cell_type": "code",
      "execution_count": null,
      "metadata": {
        "colab": {
          "base_uri": "https://localhost:8080/"
        },
        "id": "r4o3whqoMTVF",
        "outputId": "ba29bc9c-3d87-4f04-c579-cf011e505ebc"
      },
      "outputs": [
        {
          "name": "stdout",
          "output_type": "stream",
          "text": [
            "Enter your user name..usman\n",
            "Enter your password...123\n",
            "Login Successful\n"
          ]
        }
      ],
      "source": [
        "valid_user_name =\"usman\"\n",
        "valid_user_password=\"123\"\n",
        "\n",
        "\n",
        "user_name = input(\"Enter your user name..\")\n",
        "user_Password = input(\"Enter your password...\")\n",
        "\n",
        "if user_name == valid_user_name and user_Password == valid_user_password:\n",
        "  print(\"Login Successful\")\n",
        "else:\n",
        "  print(\"Invalid Credentials\")\n",
        "\n"
      ]
    },
    {
      "cell_type": "code",
      "execution_count": null,
      "metadata": {
        "colab": {
          "base_uri": "https://localhost:8080/"
        },
        "id": "qf2PB2cdOWUF",
        "outputId": "de3cada0-b2a1-406f-c612-563154e83b1a"
      },
      "outputs": [
        {
          "name": "stdout",
          "output_type": "stream",
          "text": [
            "Enter your user name..usman\n",
            "Enter your password...123\n",
            "Enter your MFA code...fff\n",
            "Login Successful\n"
          ]
        }
      ],
      "source": [
        "#MFA OTP\n",
        "\n",
        "valid_mfa = \"8743\"\n",
        "valid_user_name =\"usman\"\n",
        "valid_user_password=\"123\"\n",
        "\n",
        "\n",
        "user_name = input(\"Enter your user name..\")\n",
        "user_Password = input(\"Enter your password...\")\n",
        "user_mfa = input(\"Enter your MFA code...\")\n",
        "\n",
        "if user_name == valid_user_name and user_Password == valid_user_password:\n",
        "  print(\"Login Successful\")\n",
        "elif user_mfa == valid_mfa:\n",
        "  print(\"your are logged in with MFA\")\n",
        "else:\n",
        "  print(\"Invalid Credentials\")\n",
        "\n"
      ]
    },
    {
      "cell_type": "markdown",
      "metadata": {},
      "source": [
        "# Assignment-01\n",
        "# match vs if else\n",
        "\n",
        "When to use:\n",
        "\n",
        "Use if-else for complex conditions.\n",
        "\n",
        "Use match for clean, readable multiple value checks (like enums, status codes, commands)."
      ]
    },
    {
      "cell_type": "code",
      "execution_count": 2,
      "metadata": {},
      "outputs": [
        {
          "name": "stdout",
          "output_type": "stream",
          "text": [
            "Positive\n"
          ]
        }
      ],
      "source": [
        "x = 10\n",
        "\n",
        "if x > 0:\n",
        "    print(\"Positive\")\n",
        "elif x == 0:\n",
        "    print(\"Zero\")\n",
        "else:\n",
        "    print(\"Negative\")\n"
      ]
    },
    {
      "cell_type": "code",
      "execution_count": 4,
      "metadata": {},
      "outputs": [
        {
          "name": "stdout",
          "output_type": "stream",
          "text": [
            "OK\n"
          ]
        }
      ],
      "source": [
        "status = 200\n",
        "\n",
        "match status:\n",
        "    case 200:\n",
        "        print(\"OK\")\n",
        "    case 404:\n",
        "        print(\"Not Found\")\n",
        "    case _:\n",
        "        print(\"Unknown status\")\n"
      ]
    },
    {
      "cell_type": "code",
      "execution_count": 8,
      "metadata": {
        "id": "A3akVa5CMTSV"
      },
      "outputs": [
        {
          "name": "stdout",
          "output_type": "stream",
          "text": [
            "Grade B\n"
          ]
        }
      ],
      "source": [
        "# switch statement\n",
        "score = 70\n",
        "\n",
        "match score:\n",
        "  case 90:\n",
        "    print(\"Grade A\")\n",
        "  case 80:\n",
        "    print(\"Grade B+\")\n",
        "  case 70:\n",
        "      print(\"Grade B\")\n"
      ]
    },
    {
      "cell_type": "markdown",
      "metadata": {},
      "source": [
        "# Ternary operator"
      ]
    },
    {
      "cell_type": "code",
      "execution_count": null,
      "metadata": {
        "colab": {
          "base_uri": "https://localhost:8080/"
        },
        "id": "UuahDceGQUAc",
        "outputId": "27cd380f-3a92-4aec-8eec-dd2e806fdac9"
      },
      "outputs": [
        {
          "name": "stdout",
          "output_type": "stream",
          "text": [
            "Login Successful\n"
          ]
        }
      ],
      "source": [
        "valid_user_name =\"danish\"\n",
        "valid_user_password=\"321\"\n",
        "\n",
        "\n",
        "user_name = input(\"Enter your user name..\")\n",
        "user_Password = input(\"Enter your password...\")\n",
        "\n",
        "# if user_name == valid_user_name and user_Password == valid_user_password:\n",
        "#   print(\"Login Successful\")\n",
        "# else:\n",
        "#   print(\"Invalid Credentials\")\n",
        "\n",
        "message = \"Login Successful\" if user_name == valid_user_name and user_Password == valid_user_password else \"Invalid Credentials\"\n",
        "\n",
        "print(message)"
      ]
    },
    {
      "cell_type": "code",
      "execution_count": null,
      "metadata": {
        "colab": {
          "base_uri": "https://localhost:8080/"
        },
        "id": "gOBAUDXXRMEj",
        "outputId": "49c8a104-5963-475b-f02c-594fdac61f5b"
      },
      "outputs": [
        {
          "name": "stdout",
          "output_type": "stream",
          "text": [
            "Login Successful\n",
            "Login Successful\n",
            "Invalid Credentials\n"
          ]
        }
      ],
      "source": [
        "# This part of code is repeating itself and violates DRY principle.\n",
        "# We will see how we can use Loops to run  a block of code repeatedly through Loops\n",
        "\n",
        "valid_user_name =\"danish\"\n",
        "valid_user_password=\"123\"\n",
        "\n",
        "\n",
        "user_name = input(\"Enter your user name..\")\n",
        "user_Password = input(\"Enter your password...\")\n",
        "\n",
        "if user_name == valid_user_name and user_Password == valid_user_password:\n",
        "  print(\"Login Successful\")\n",
        "else:\n",
        "  print(\"Invalid Credentials\")\n",
        "\n",
        "\n",
        "# ==================\n",
        "\n",
        "user_name = input(\"Enter your user name..\")\n",
        "user_Password = input(\"Enter your password...\")\n",
        "\n",
        "if user_name == valid_user_name and user_Password == valid_user_password:\n",
        "  print(\"Login Successful\")\n",
        "else:\n",
        "  print(\"Invalid Credentials\")\n",
        "\n",
        "# ==================\n",
        "\n",
        "user_name = input(\"Enter your user name..\")\n",
        "user_Password = input(\"Enter your password...\")\n",
        "\n",
        "if user_name == valid_user_name and user_Password == valid_user_password:\n",
        "  print(\"Login Successful\")\n",
        "else:\n",
        "  print(\"Invalid Credentials\")\n",
        "\n",
        "# ..."
      ]
    },
    {
      "cell_type": "markdown",
      "metadata": {
        "id": "GZVLAyMrSe88"
      },
      "source": [
        "# Loops"
      ]
    },
    {
      "cell_type": "markdown",
      "metadata": {
        "id": "1GU6mvwSShq3"
      },
      "source": [
        "### For Loop"
      ]
    },
    {
      "cell_type": "code",
      "execution_count": 16,
      "metadata": {
        "id": "j62YPI_ySKEQ"
      },
      "outputs": [
        {
          "name": "stdout",
          "output_type": "stream",
          "text": [
            "Login Successful\n"
          ]
        }
      ],
      "source": [
        "#DRY\n",
        "# Loop\n",
        "\n",
        "valid_user_name =\"mehmood\"\n",
        "valid_user_password=\"123\"\n",
        "\n",
        "# For range  => starting to ending:  loop run\n",
        "\n",
        "for num_of_attempts in range(3):\n",
        "  user_name = input(\"Enter your user name..\")\n",
        "  user_Password = input(\"Enter your password...\")\n",
        "  \n",
        "message = \"Login Successful\" if user_name == valid_user_name and user_Password == valid_user_password else \"Invalid Credentials\"\n",
        "\n",
        "print(message)\n",
        "\n",
        "\n"
      ]
    },
    {
      "cell_type": "markdown",
      "metadata": {
        "id": "tWVM5bT4T1RU"
      },
      "source": [
        "#Break statment"
      ]
    },
    {
      "cell_type": "code",
      "execution_count": 19,
      "metadata": {
        "colab": {
          "base_uri": "https://localhost:8080/"
        },
        "id": "FimViRuDSLo4",
        "outputId": "d453cf3d-3a04-41c7-8dd1-45e439878ffa"
      },
      "outputs": [
        {
          "name": "stdout",
          "output_type": "stream",
          "text": [
            "Login Successful\n"
          ]
        }
      ],
      "source": [
        "#DRY\n",
        "# Loop\n",
        "\n",
        "valid_user_name =\"dani\"\n",
        "valid_user_password=\"123\"\n",
        "\n",
        "# For range  => starting to ending:  loop run\n",
        "\n",
        "for num_of_attempts in range(3):\n",
        "  user_name = input(\"Enter your user name..\")\n",
        "  user_Password = input(\"Enter your password...\")\n",
        "  if user_name == valid_user_name and user_Password == valid_user_password:\n",
        "    print(\"Login Successful\")\n",
        "    break\n",
        "  else:\n",
        "    print(\"Invalid Credentials\")"
      ]
    },
    {
      "cell_type": "code",
      "execution_count": 22,
      "metadata": {
        "colab": {
          "base_uri": "https://localhost:8080/"
        },
        "id": "drZLEkAdUTWl",
        "outputId": "14c46fcf-aedb-4618-f073-ab9b13cbfc50"
      },
      "outputs": [
        {
          "name": "stdout",
          "output_type": "stream",
          "text": [
            "0\n",
            "1\n",
            "2\n",
            "4\n"
          ]
        }
      ],
      "source": [
        "# continue\n",
        "\n",
        "for i in range(5):  #n-1\n",
        "  if i == 3:\n",
        "    continue\n",
        "  print(i)\n"
      ]
    },
    {
      "cell_type": "code",
      "execution_count": null,
      "metadata": {
        "id": "svCcUMbDVJKj"
      },
      "outputs": [],
      "source": [
        "# how we'll implement for loop on list"
      ]
    },
    {
      "cell_type": "markdown",
      "metadata": {
        "id": "73CAHV-qVY5A"
      },
      "source": [
        "# *While Loop*"
      ]
    },
    {
      "cell_type": "code",
      "execution_count": null,
      "metadata": {
        "id": "weHqvZx5VjZP"
      },
      "outputs": [],
      "source": [
        "# while condition :\n",
        "  # block of code\n",
        "  # condition update"
      ]
    },
    {
      "cell_type": "markdown",
      "metadata": {
        "id": "YMWfaZvWZQiF"
      },
      "source": [
        "#### dry-run"
      ]
    },
    {
      "cell_type": "code",
      "execution_count": null,
      "metadata": {
        "colab": {
          "base_uri": "https://localhost:8080/"
        },
        "id": "aiTi_UKAVJH8",
        "outputId": "f95ed359-929b-44fd-b8f5-ab62047af9a5"
      },
      "outputs": [
        {
          "name": "stdout",
          "output_type": "stream",
          "text": [
            "Enter your user name..usman\n",
            "Enter your password...1222\n",
            "Invalid Credentials\n",
            "===========\n",
            "Enter your user name..uus\n",
            "Enter your password...5555\n",
            "Invalid Credentials\n",
            "===========\n",
            "Enter your user name..usman\n",
            "Enter your password...123\n",
            "Login Successful\n",
            "===========\n"
          ]
        }
      ],
      "source": [
        "valid_user_name =\"usman\"\n",
        "valid_user_password=\"123\"\n",
        "\n",
        "\n",
        "number_of_attempts = 3\n",
        "\n",
        "while number_of_attempts > 0:  # 0 > 0 -> flase\n",
        "  user_name = input(\"Enter your user name..\") # usman\n",
        "  user_Password = input(\"Enter your password...\") #123\n",
        "\n",
        "     # (usman ==  usman) true  and 123 == 123\n",
        "  if user_name == valid_user_name and user_Password == valid_user_password:\n",
        "    print(\"Login Successful\")\n",
        "  else:\n",
        "    print(\"Invalid Credentials\")\n",
        "\n",
        "  print(\"===========\")\n",
        "  number_of_attempts -= 1 #1 -1 = 0"
      ]
    },
    {
      "cell_type": "code",
      "execution_count": null,
      "metadata": {
        "id": "17IgJGSxVI_-"
      },
      "outputs": [],
      "source": []
    }
  ],
  "metadata": {
    "colab": {
      "provenance": []
    },
    "kernelspec": {
      "display_name": "venv",
      "language": "python",
      "name": "python3"
    },
    "language_info": {
      "codemirror_mode": {
        "name": "ipython",
        "version": 3
      },
      "file_extension": ".py",
      "mimetype": "text/x-python",
      "name": "python",
      "nbconvert_exporter": "python",
      "pygments_lexer": "ipython3",
      "version": "3.10.8"
    }
  },
  "nbformat": 4,
  "nbformat_minor": 0
}
