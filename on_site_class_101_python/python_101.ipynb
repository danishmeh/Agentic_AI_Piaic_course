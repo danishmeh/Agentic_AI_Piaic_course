{
 "cells": [
  {
   "cell_type": "markdown",
   "id": "fb5d169d",
   "metadata": {},
   "source": [
    "## **String Operators**"
   ]
  },
  {
   "cell_type": "markdown",
   "id": "8c0a661e",
   "metadata": {},
   "source": [
    "1. Concatenation"
   ]
  },
  {
   "cell_type": "code",
   "execution_count": 2,
   "id": "3301c241",
   "metadata": {},
   "outputs": [
    {
     "name": "stdout",
     "output_type": "stream",
     "text": [
      "Hello  World\n"
     ]
    }
   ],
   "source": [
    "str1 =\"Hello\"\n",
    "str2 =\"  World\"\n",
    "\n",
    "print(str1 + str2)"
   ]
  },
  {
   "cell_type": "markdown",
   "id": "bff2f656",
   "metadata": {},
   "source": [
    "2. Repetition (*)\n",
    "   \n",
    "   The * operator is used to repeat a string a specified number of times."
   ]
  },
  {
   "cell_type": "code",
   "execution_count": 3,
   "id": "e835cd18",
   "metadata": {},
   "outputs": [
    {
     "name": "stdout",
     "output_type": "stream",
     "text": [
      "HelloHelloHello\n"
     ]
    }
   ],
   "source": [
    "str1 = \"Hello\"\n",
    "result = str1 * 3\n",
    "print(result)  # Output: \"HelloHelloHello\""
   ]
  },
  {
   "cell_type": "markdown",
   "id": "57f629fc",
   "metadata": {},
   "source": [
    "3. Membership (in, not in)\n",
    "   \n",
    "   3a. Membership Operators\n",
    "\n",
    "   The in and not in operators are used to check whether a substring exists within a string."
   ]
  },
  {
   "cell_type": "code",
   "execution_count": 4,
   "id": "530cb3cc",
   "metadata": {},
   "outputs": [
    {
     "name": "stdout",
     "output_type": "stream",
     "text": [
      "True\n",
      "True\n",
      "False\n"
     ]
    }
   ],
   "source": [
    "str = \"Hello\" \n",
    "print(\"Hello\" in str)\n",
    "print(\"hello\" not in str)\n",
    "print(\"Hello\" not in str)"
   ]
  },
  {
   "cell_type": "markdown",
   "id": "9591bc8f",
   "metadata": {},
   "source": [
    "4. String Length"
   ]
  },
  {
   "cell_type": "code",
   "execution_count": 5,
   "id": "93c075e1",
   "metadata": {},
   "outputs": [
    {
     "name": "stdout",
     "output_type": "stream",
     "text": [
      "8\n"
     ]
    }
   ],
   "source": [
    "str = \"Pakistan\"\n",
    "print(len(str))"
   ]
  },
  {
   "cell_type": "markdown",
   "id": "63292f5a",
   "metadata": {},
   "source": [
    "5. Indexing"
   ]
  },
  {
   "cell_type": "code",
   "execution_count": 6,
   "id": "c0b93338",
   "metadata": {},
   "outputs": [
    {
     "name": "stdout",
     "output_type": "stream",
     "text": [
      "H\n",
      "o\n",
      "el\n",
      "He\n",
      "lo\n"
     ]
    }
   ],
   "source": [
    "str = \"Hello\"\n",
    "print(str[0])\n",
    "print(str[-1])\n",
    "print(str[1:3])\n",
    "print(str[:2])\n",
    "print(str[3:])"
   ]
  },
  {
   "cell_type": "markdown",
   "id": "42503990",
   "metadata": {},
   "source": [
    "6. Slicing ([start:stop:step])"
   ]
  },
  {
   "cell_type": "code",
   "execution_count": 7,
   "id": "86bda145",
   "metadata": {},
   "outputs": [
    {
     "name": "stdout",
     "output_type": "stream",
     "text": [
      "Hello\n",
      "World\n"
     ]
    }
   ],
   "source": [
    "str1 = \"Hello World\"\n",
    "print(str1[0:5])  # Output: \"Hello\"\n",
    "print(str1[6:11]) # Output: \"World\""
   ]
  },
  {
   "cell_type": "markdown",
   "id": "2a5b3070",
   "metadata": {},
   "source": [
    "7. String Comparison (==, !=, <, >, <=, >=)"
   ]
  },
  {
   "cell_type": "code",
   "execution_count": 8,
   "id": "f67a0af2",
   "metadata": {},
   "outputs": [
    {
     "name": "stdout",
     "output_type": "stream",
     "text": [
      "False\n",
      "True\n",
      "True\n"
     ]
    }
   ],
   "source": [
    "str1 = \"Hello\"\n",
    "str2 = \"World\"\n",
    "print(str1 == str2)  # Output: False\n",
    "print(str1 != str2)  # Output: True\n",
    "print(str1 < str2)   # Output: True (since \"H\" comes before \"W\" lexicographically)"
   ]
  },
  {
   "cell_type": "markdown",
   "id": "8105199f",
   "metadata": {},
   "source": [
    "8. String Formatting (%, .format(), f-strings)"
   ]
  },
  {
   "cell_type": "code",
   "execution_count": 9,
   "id": "f1f83e16",
   "metadata": {},
   "outputs": [
    {
     "name": "stdout",
     "output_type": "stream",
     "text": [
      "student name is Danish and age is 32.\n"
     ]
    }
   ],
   "source": [
    "name = \"Danish\"\n",
    "age  = 32\n",
    "print(\"student name is %s and age is %d.\"  %(name,age))"
   ]
  },
  {
   "cell_type": "code",
   "execution_count": 10,
   "id": "cbef2f29",
   "metadata": {},
   "outputs": [
    {
     "name": "stdout",
     "output_type": "stream",
     "text": [
      "My name is Danish and i am 32\n"
     ]
    }
   ],
   "source": [
    "print(\"My name is {} and i am {}\".format(name,age))"
   ]
  },
  {
   "cell_type": "code",
   "execution_count": 11,
   "id": "5c136421",
   "metadata": {},
   "outputs": [
    {
     "name": "stdout",
     "output_type": "stream",
     "text": [
      "my name is Danish and i am 32\n"
     ]
    }
   ],
   "source": [
    "print(f\"my name is {name} and i am {age}\")"
   ]
  },
  {
   "cell_type": "markdown",
   "id": "5825cb72",
   "metadata": {},
   "source": [
    "formatted_string"
   ]
  },
  {
   "cell_type": "code",
   "execution_count": 12,
   "id": "6e2d44fb",
   "metadata": {},
   "outputs": [
    {
     "name": "stdout",
     "output_type": "stream",
     "text": [
      "The value of pi is approximately 3.14\n"
     ]
    }
   ],
   "source": [
    "pi = 3.14159\n",
    "formatted_string = \"The value of pi is approximately %.2f\" % pi\n",
    "print(formatted_string)  # Output: \"The value of pi is approximately 3.14\""
   ]
  },
  {
   "cell_type": "markdown",
   "id": "412265a4",
   "metadata": {},
   "source": [
    "Integers into Hexadecimal"
   ]
  },
  {
   "cell_type": "code",
   "execution_count": 13,
   "id": "dc369daf",
   "metadata": {},
   "outputs": [
    {
     "name": "stdout",
     "output_type": "stream",
     "text": [
      "The hexadecimal representation of 255 is ff\n"
     ]
    }
   ],
   "source": [
    "number = 255\n",
    "formatted_string = \"The hexadecimal representation of %d is %x\" % (number, number)\n",
    "print(formatted_string)  # Output: \"The hexadecimal representation of 255 is ff\""
   ]
  },
  {
   "cell_type": "markdown",
   "id": "b64f7dd3",
   "metadata": {},
   "source": [
    "Integers convert into Hexadecimal "
   ]
  },
  {
   "cell_type": "code",
   "execution_count": 14,
   "id": "75507374",
   "metadata": {},
   "outputs": [
    {
     "name": "stdout",
     "output_type": "stream",
     "text": [
      "The octal representation of 255 is 377\n"
     ]
    }
   ],
   "source": [
    "number = 255\n",
    "formatted_string = \"The octal representation of %d is %o\" % (number, number)\n",
    "print(formatted_string)  # Output: \"The octal representation of 255 is 377\""
   ]
  },
  {
   "cell_type": "markdown",
   "id": "3a5a3746",
   "metadata": {},
   "source": [
    "Integers convert into Scientific Notations"
   ]
  },
  {
   "cell_type": "code",
   "execution_count": 15,
   "id": "fa6661f8",
   "metadata": {},
   "outputs": [
    {
     "name": "stdout",
     "output_type": "stream",
     "text": [
      "The octal representation of 155 is 1.550000e+02\n"
     ]
    }
   ],
   "source": [
    "number = 155\n",
    "formatted_string = \"The octal representation of %d is %e\" % (number, number)\n",
    "print(formatted_string)  # Output: \"The octal representation of 255 is 377\""
   ]
  },
  {
   "cell_type": "markdown",
   "id": "2110e2be",
   "metadata": {},
   "source": [
    "Character convert into ASCII"
   ]
  },
  {
   "cell_type": "code",
   "execution_count": 16,
   "id": "b44531b3",
   "metadata": {},
   "outputs": [
    {
     "name": "stdout",
     "output_type": "stream",
     "text": [
      "The character for ASCII code 71 is G\n"
     ]
    }
   ],
   "source": [
    "char_code = 71\n",
    "formatted_string = \"The character for ASCII code %d is %c\" % (char_code, char_code)\n",
    "print(formatted_string)  # Output: \"The character for ASCII code 65 is A\""
   ]
  },
  {
   "cell_type": "code",
   "execution_count": 17,
   "id": "9bc08405",
   "metadata": {},
   "outputs": [
    {
     "name": "stdout",
     "output_type": "stream",
     "text": [
      "Raw representation: 'Hello\\nWorld'\n"
     ]
    }
   ],
   "source": [
    "text = \"Hello\\nWorld\"\n",
    "formatted_string = \"Raw representation: %r\" % text\n",
    "print(formatted_string)  # Output: \"Raw representation: 'Hello\\\\nWorld'\""
   ]
  },
  {
   "cell_type": "markdown",
   "id": "793f09fa",
   "metadata": {},
   "source": [
    "9. Escape Sequence\n",
    "\n",
    "```\n",
    "\\   -> Escape character\n",
    "\\n  -> Escape sequence\n",
    "\\n  -> Inserts new line\n",
    "\\\\  -> Inserts backslash\n",
    "\\'  -> Inserts single quote\n",
    "\\\"  -> Inserts double quote\n",
    "\\t  -> Inserts tab\n",
    "\\r  -> Moves the cursor to the start of the line\n",
    "\\a  -> Beeps\n",
    "\\b  -> Backspace\n",
    "```"
   ]
  },
  {
   "cell_type": "code",
   "execution_count": 18,
   "id": "1fd91409",
   "metadata": {},
   "outputs": [
    {
     "name": "stdout",
     "output_type": "stream",
     "text": [
      "Python Programming in \"PIAIC\"\n",
      "Python Programming in \\PIAIC\n",
      "Python Programming in \n",
      "PIAIC\n",
      "Python Programming in \tPIAIC\n"
     ]
    }
   ],
   "source": [
    "print(\"Python Programming in \\\"PIAIC\\\"\")\n",
    "print(\"Python Programming in \\\\PIAIC\")\n",
    "print(\"Python Programming in \\nPIAIC\")\n",
    "print(\"Python Programming in \\tPIAIC\")"
   ]
  },
  {
   "cell_type": "markdown",
   "id": "fca3a5ed",
   "metadata": {},
   "source": [
    "Move Cursor to the beginning of the line"
   ]
  },
  {
   "cell_type": "code",
   "execution_count": 19,
   "id": "4bdf178f",
   "metadata": {},
   "outputs": [
    {
     "name": "stdout",
     "output_type": "stream",
     "text": [
      "Zindabad Pakistan\n"
     ]
    }
   ],
   "source": [
    "print(\"Hello in Pakistan\\rZindabad\")"
   ]
  },
  {
   "cell_type": "code",
   "execution_count": 20,
   "id": "3b6b2555",
   "metadata": {},
   "outputs": [
    {
     "name": "stdout",
     "output_type": "stream",
     "text": [
      "Python Programming in PIAIC\n"
     ]
    }
   ],
   "source": [
    "## Backspace removes (erases) one character before it.\n",
    "print(\"Python Programming in a\\bPIAIC\")"
   ]
  },
  {
   "cell_type": "code",
   "execution_count": 21,
   "id": "6cdcf2b5",
   "metadata": {},
   "outputs": [
    {
     "name": "stdout",
     "output_type": "stream",
     "text": [
      "Python Programming in \u0007PIAIC\n"
     ]
    }
   ],
   "source": [
    "print(\"Python Programming in \\aPIAIC\")"
   ]
  },
  {
   "cell_type": "markdown",
   "id": "78245a2b",
   "metadata": {},
   "source": [
    "10. Assignment Operators:"
   ]
  },
  {
   "cell_type": "code",
   "execution_count": 22,
   "id": "68b6e260",
   "metadata": {},
   "outputs": [
    {
     "name": "stdout",
     "output_type": "stream",
     "text": [
      "<class 'int'>\n",
      "<class 'float'>\n",
      "<class 'str'>\n",
      "<class 'bool'>\n",
      "<class 'int'>\n"
     ]
    }
   ],
   "source": [
    "x:int = 10\n",
    "y:float = 20.5\n",
    "z:str = \"Hello\"\n",
    "a:bool = True\n",
    "print(type(x))  # Output: <class 'int'>\n",
    "print(type(y))  # Output: <class 'float'>\n",
    "print(type(z))  # Output: <class 'str'> `\n",
    "print(type(a))  # Output: <class 'bool'>\n",
    "print(type(x))  # Output: <class 'int'>"
   ]
  },
  {
   "cell_type": "markdown",
   "id": "2e49ee5b",
   "metadata": {},
   "source": [
    "Multi-line Comments:"
   ]
  },
  {
   "cell_type": "code",
   "execution_count": 23,
   "id": "d3e49123",
   "metadata": {},
   "outputs": [
    {
     "name": "stdout",
     "output_type": "stream",
     "text": [
      "Hello, World!\n"
     ]
    }
   ],
   "source": [
    "'''\n",
    "This is a multi-line comment\n",
    "spanning multiple lines.\n",
    "'''\n",
    "print(\"Hello, World!\")\n"
   ]
  },
  {
   "cell_type": "markdown",
   "id": "400396d5",
   "metadata": {},
   "source": [
    ". Type conversion"
   ]
  },
  {
   "cell_type": "code",
   "execution_count": 24,
   "id": "68ce4aee",
   "metadata": {},
   "outputs": [
    {
     "name": "stdout",
     "output_type": "stream",
     "text": [
      "<class 'float'>\n"
     ]
    }
   ],
   "source": [
    "int_data : int = 10\n",
    "float_data : float = 20.5\n",
    "\n",
    "\n",
    "int_to_float : float = float(int_data)  # Convert int to float\n",
    "\n",
    "print(type(int_to_float))  # Output: 10.0\n"
   ]
  },
  {
   "cell_type": "markdown",
   "id": "e3858f2c",
   "metadata": {},
   "source": [
    "13. `type`, `dir`, `id` Functions\n",
    "\n",
    "- **`type`**: Provides the type of a variable.\n",
    "- **`dir`**: Provides the list of attributes and methods of a variable.\n",
    "- **`id`**: Provides the memory address of a variable."
   ]
  },
  {
   "cell_type": "code",
   "execution_count": 25,
   "id": "af4d394b",
   "metadata": {},
   "outputs": [
    {
     "name": "stdout",
     "output_type": "stream",
     "text": [
      "<class 'bool'>\n",
      "<class 'int'>\n",
      "<class 'float'>\n",
      "<class 'str'>\n",
      "['__abs__', '__add__', '__and__', '__bool__', '__ceil__', '__class__', '__delattr__', '__dir__', '__divmod__', '__doc__', '__eq__', '__float__', '__floor__', '__floordiv__', '__format__', '__ge__', '__getattribute__', '__getnewargs__', '__getstate__', '__gt__', '__hash__', '__index__', '__init__', '__init_subclass__', '__int__', '__invert__', '__le__', '__lshift__', '__lt__', '__mod__', '__mul__', '__ne__', '__neg__', '__new__', '__or__', '__pos__', '__pow__', '__radd__', '__rand__', '__rdivmod__', '__reduce__', '__reduce_ex__', '__repr__', '__rfloordiv__', '__rlshift__', '__rmod__', '__rmul__', '__ror__', '__round__', '__rpow__', '__rrshift__', '__rshift__', '__rsub__', '__rtruediv__', '__rxor__', '__setattr__', '__sizeof__', '__str__', '__sub__', '__subclasshook__', '__truediv__', '__trunc__', '__xor__', 'as_integer_ratio', 'bit_count', 'bit_length', 'conjugate', 'denominator', 'from_bytes', 'imag', 'numerator', 'real', 'to_bytes']\n",
      "['__abs__', '__add__', '__and__', '__bool__', '__ceil__', '__class__', '__delattr__', '__dir__', '__divmod__', '__doc__', '__eq__', '__float__', '__floor__', '__floordiv__', '__format__', '__ge__', '__getattribute__', '__getnewargs__', '__getstate__', '__gt__', '__hash__', '__index__', '__init__', '__init_subclass__', '__int__', '__invert__', '__le__', '__lshift__', '__lt__', '__mod__', '__mul__', '__ne__', '__neg__', '__new__', '__or__', '__pos__', '__pow__', '__radd__', '__rand__', '__rdivmod__', '__reduce__', '__reduce_ex__', '__repr__', '__rfloordiv__', '__rlshift__', '__rmod__', '__rmul__', '__ror__', '__round__', '__rpow__', '__rrshift__', '__rshift__', '__rsub__', '__rtruediv__', '__rxor__', '__setattr__', '__sizeof__', '__str__', '__sub__', '__subclasshook__', '__truediv__', '__trunc__', '__xor__', 'as_integer_ratio', 'bit_count', 'bit_length', 'conjugate', 'denominator', 'from_bytes', 'imag', 'numerator', 'real', 'to_bytes']\n",
      "['__abs__', '__add__', '__bool__', '__ceil__', '__class__', '__delattr__', '__dir__', '__divmod__', '__doc__', '__eq__', '__float__', '__floor__', '__floordiv__', '__format__', '__ge__', '__getattribute__', '__getformat__', '__getnewargs__', '__getstate__', '__gt__', '__hash__', '__init__', '__init_subclass__', '__int__', '__le__', '__lt__', '__mod__', '__mul__', '__ne__', '__neg__', '__new__', '__pos__', '__pow__', '__radd__', '__rdivmod__', '__reduce__', '__reduce_ex__', '__repr__', '__rfloordiv__', '__rmod__', '__rmul__', '__round__', '__rpow__', '__rsub__', '__rtruediv__', '__setattr__', '__sizeof__', '__str__', '__sub__', '__subclasshook__', '__truediv__', '__trunc__', 'as_integer_ratio', 'conjugate', 'fromhex', 'hex', 'imag', 'is_integer', 'real']\n",
      "['__add__', '__class__', '__contains__', '__delattr__', '__dir__', '__doc__', '__eq__', '__format__', '__ge__', '__getattribute__', '__getitem__', '__getnewargs__', '__getstate__', '__gt__', '__hash__', '__init__', '__init_subclass__', '__iter__', '__le__', '__len__', '__lt__', '__mod__', '__mul__', '__ne__', '__new__', '__reduce__', '__reduce_ex__', '__repr__', '__rmod__', '__rmul__', '__setattr__', '__sizeof__', '__str__', '__subclasshook__', 'capitalize', 'casefold', 'center', 'count', 'encode', 'endswith', 'expandtabs', 'find', 'format', 'format_map', 'index', 'isalnum', 'isalpha', 'isascii', 'isdecimal', 'isdigit', 'isidentifier', 'islower', 'isnumeric', 'isprintable', 'isspace', 'istitle', 'isupper', 'join', 'ljust', 'lower', 'lstrip', 'maketrans', 'partition', 'removeprefix', 'removesuffix', 'replace', 'rfind', 'rindex', 'rjust', 'rpartition', 'rsplit', 'rstrip', 'split', 'splitlines', 'startswith', 'strip', 'swapcase', 'title', 'translate', 'upper', 'zfill']\n",
      "140720168905248\n",
      "140720170374056\n",
      "2701675322288\n",
      "2701675458352\n"
     ]
    }
   ],
   "source": [
    "w = True\n",
    "x = 5\n",
    "y = 3.0\n",
    "z = \"Hello\"\n",
    "\n",
    "print(type(w)) \n",
    "print(type(x))  \n",
    "print(type(y))  \n",
    "print(type(z))  \n",
    "\n",
    "print(dir(w))  \n",
    "print(dir(x)) \n",
    "print(dir(y))\n",
    "print(dir(z))\n",
    "\n",
    "print(id(w))  \n",
    "print(id(x)) \n",
    "print(id(y))\n",
    "print(id(z))"
   ]
  },
  {
   "cell_type": "markdown",
   "id": "94c86f9d",
   "metadata": {},
   "source": [
    "14. Mutable and Immutable Data Types\n",
    "\n",
    "- **Mutable data types** are those that **can be changed** after they are created.\n",
    "- **Immutable data types** are those that **cannot be changed** after they are created.\n",
    "\n",
    "## Immutable Data Types:\n",
    "- `int`\n",
    "- `float`\n",
    "- `str`\n",
    "- `bool`\n",
    "\n",
    "## Mutable Data Types:\n",
    "- `list`\n",
    "- `set`\n",
    "- `dict`\n",
    "\n",
    "---\n",
    "\n",
    "**Note:**  \n",
    "If you want to store multiple items, you would need to create a separate variable for each one.\n"
   ]
  },
  {
   "cell_type": "code",
   "execution_count": 26,
   "id": "6d5d8421",
   "metadata": {},
   "outputs": [
    {
     "name": "stdout",
     "output_type": "stream",
     "text": [
      "['apple', 'banana', 'cherry']\n"
     ]
    }
   ],
   "source": [
    "## List\n",
    "fruits = [\"apple\", \"banana\"]\n",
    "fruits.append(\"cherry\")  # List is changed (no new object)\n",
    "print(fruits)  # Output: ['apple', 'banana', 'cherry']"
   ]
  },
  {
   "cell_type": "code",
   "execution_count": 27,
   "id": "0cf23999",
   "metadata": {},
   "outputs": [
    {
     "name": "stdout",
     "output_type": "stream",
     "text": [
      "{'cherry', 'apple', 'banana'}\n"
     ]
    }
   ],
   "source": [
    "#@set \n",
    "fruits = {\"apple\", \"banana\"}\n",
    "fruits.add(\"cherry\")  # Set is changed (no new object)\n",
    "print(fruits)  # Output: {'banana', 'apple', 'cherry'}"
   ]
  },
  {
   "cell_type": "code",
   "execution_count": 28,
   "id": "6adbf15f",
   "metadata": {},
   "outputs": [
    {
     "name": "stdout",
     "output_type": "stream",
     "text": [
      "{'name': 'John', 'age': 21}\n"
     ]
    }
   ],
   "source": [
    "student = {\"name\": \"John\", \"age\": 20}\n",
    "student[\"age\"] = 21  # Dictionary is changed (no new object)\n",
    "print(student)  # Output: {'name': 'John', 'age': 21}"
   ]
  },
  {
   "cell_type": "markdown",
   "id": "e2ebb024",
   "metadata": {},
   "source": [
    "14. What is List?\n",
    "    \n",
    "A list in Python is like a container that can hold multiple items, one after another. Imagine you have a shopping list where you write down everything you need to buy. A Python list is very similar, but instead of just groceries, it can hold all kinds of things like numbers, words, or even other lists!\n",
    "\n",
    "Store Multiple Items Together:\n",
    "A list allows you to keep multiple items in one place. For example, if you want to keep track of all your students' names, you can store them in a list."
   ]
  },
  {
   "cell_type": "code",
   "execution_count": 29,
   "id": "81562ad5",
   "metadata": {},
   "outputs": [
    {
     "name": "stdout",
     "output_type": "stream",
     "text": [
      "['apple', 'banana', 'cherry']\n"
     ]
    }
   ],
   "source": [
    "fruits = [\"apple\", \"banana\", \"cherry\"]\n",
    "print(fruits)"
   ]
  },
  {
   "cell_type": "code",
   "execution_count": 30,
   "id": "f034c76c",
   "metadata": {},
   "outputs": [
    {
     "name": "stdout",
     "output_type": "stream",
     "text": [
      "apple\n",
      "banana\n"
     ]
    }
   ],
   "source": [
    "print(fruits[0])  # First item\n",
    "print(fruits[1])  # Second item"
   ]
  },
  {
   "cell_type": "code",
   "execution_count": 31,
   "id": "c3b6b9ba",
   "metadata": {},
   "outputs": [
    {
     "name": "stdout",
     "output_type": "stream",
     "text": [
      "['apple', 'blueberry', 'cherry']\n"
     ]
    }
   ],
   "source": [
    "fruits[1] = \"blueberry\"\n",
    "print(fruits)\n"
   ]
  },
  {
   "cell_type": "code",
   "execution_count": 32,
   "id": "c0da6796",
   "metadata": {},
   "outputs": [
    {
     "name": "stdout",
     "output_type": "stream",
     "text": [
      "['apple', 'blueberry', 'cherry', 'orange']\n"
     ]
    }
   ],
   "source": [
    "fruits.append(\"orange\")\n",
    "print(fruits)\n"
   ]
  },
  {
   "cell_type": "code",
   "execution_count": 33,
   "id": "a531cbb1",
   "metadata": {},
   "outputs": [
    {
     "name": "stdout",
     "output_type": "stream",
     "text": [
      "['apple', 'cherry', 'orange']\n"
     ]
    }
   ],
   "source": [
    "fruits.remove(\"blueberry\")\n",
    "print(fruits)\n"
   ]
  },
  {
   "cell_type": "code",
   "execution_count": 34,
   "id": "e432d5a2",
   "metadata": {},
   "outputs": [
    {
     "name": "stdout",
     "output_type": "stream",
     "text": [
      "apple\n",
      "cherry\n",
      "orange\n"
     ]
    }
   ],
   "source": [
    "for fruit in fruits:\n",
    "    print(fruit)\n"
   ]
  },
  {
   "cell_type": "markdown",
   "id": "9e22d2bf",
   "metadata": {},
   "source": [
    " Indexing\n",
    "\n",
    "**Indexing** is how you access individual elements in a list using their position in the list.\n",
    "\n",
    "In Python, lists are **zero-indexed**, meaning:\n",
    "\n",
    "- The first element in a list is at **index 0**.\n",
    "- The second element is at **index 1**.\n",
    "- And so on.\n",
    "\n",
    "```\n",
    "Example:\n",
    "fruits = [\"apple\", \"banana\", \"cherry\"]\n",
    "\n",
    "print(fruits[0])  # Output: apple\n",
    "print(fruits[1])  # Output: banana\n",
    "print(fruits[2])  # Output: cherry\n",
    "```\n"
   ]
  },
  {
   "cell_type": "code",
   "execution_count": 35,
   "id": "21d9897f",
   "metadata": {},
   "outputs": [
    {
     "name": "stdout",
     "output_type": "stream",
     "text": [
      "apple\n",
      "banana\n",
      "cherry\n"
     ]
    }
   ],
   "source": [
    "fruits = [\"apple\", \"banana\", \"cherry\"]\n",
    "\n",
    "print(fruits[0])  # Output: apple\n",
    "print(fruits[1])  # Output: banana\n",
    "print(fruits[2])  # Output: cherry"
   ]
  },
  {
   "cell_type": "markdown",
   "id": "5c261b2e",
   "metadata": {},
   "source": [
    "Postive Indexing"
   ]
  },
  {
   "cell_type": "code",
   "execution_count": 36,
   "id": "88c7aa85",
   "metadata": {},
   "outputs": [
    {
     "name": "stdout",
     "output_type": "stream",
     "text": [
      "I love\n",
      "love my country\n",
      "I lov\n",
      "love \n",
      "Ilv\n"
     ]
    }
   ],
   "source": [
    "pharse = \"I love my country\"\n",
    "print(pharse[0:6])  # Output: I\n",
    "print(pharse[2:])   # Output: love my country\n",
    "print(pharse[:5])   # Output: I lov\n",
    "print(pharse[2:7])  # Output: love\n",
    "print(pharse[0:6:2]) # Output: I o"
   ]
  },
  {
   "cell_type": "markdown",
   "id": "842ce860",
   "metadata": {},
   "source": [
    "Negative Indexing"
   ]
  },
  {
   "cell_type": "code",
   "execution_count": 37,
   "id": "ee9b5a33",
   "metadata": {},
   "outputs": [
    {
     "name": "stdout",
     "output_type": "stream",
     "text": [
      "y\n",
      "r\n",
      "country\n"
     ]
    }
   ],
   "source": [
    "print(pharse[-1])\n",
    "print(pharse[-2])\n",
    "print(pharse[-7:])"
   ]
  },
  {
   "cell_type": "code",
   "execution_count": 38,
   "id": "249dc82b",
   "metadata": {},
   "outputs": [
    {
     "name": "stdout",
     "output_type": "stream",
     "text": [
      "Pakistan\n",
      "mycountry\n"
     ]
    }
   ],
   "source": [
    "pak = \"Pakistanismycountry\"\n",
    "print(pak[0:8])  # Output: Pakistan\n",
    "print(pak[-9:])  # Output: Pkain"
   ]
  },
  {
   "cell_type": "markdown",
   "id": "beb1470e",
   "metadata": {},
   "source": [
    "Reversing the entire string"
   ]
  },
  {
   "cell_type": "code",
   "execution_count": 39,
   "id": "9f9f5c2d",
   "metadata": {},
   "outputs": [
    {
     "name": "stdout",
     "output_type": "stream",
     "text": [
      "yrtnuoc ym evol I\n"
     ]
    }
   ],
   "source": [
    "phrase = \"I love my country\"\n",
    "reversed_phrase = phrase[::-1]  # Reversing the entire string\n",
    "print(reversed_phrase)"
   ]
  },
  {
   "cell_type": "code",
   "execution_count": 40,
   "id": "0de2f9fe",
   "metadata": {},
   "outputs": [
    {
     "name": "stdout",
     "output_type": "stream",
     "text": [
      "I love my country\n",
      " my count\n"
     ]
    }
   ],
   "source": [
    "print(pharse)\n",
    "print(pharse[6:-2:1])"
   ]
  },
  {
   "cell_type": "code",
   "execution_count": 41,
   "id": "09b98e96",
   "metadata": {},
   "outputs": [
    {
     "name": "stdout",
     "output_type": "stream",
     "text": [
      "[0, 0, 0, 0, 0]\n",
      "[1, 2, 3, 4, 5, 6]\n",
      "[1, 2, 3, 1, 2, 3, 1, 2, 3]\n",
      "True\n",
      "False\n",
      "3\n",
      "[0, 1, 2, 3, 4, 5, 6, 7, 8, 9]\n",
      "['H', 'e', 'l', 'l', 'o', ',', ' ', 'W', 'o', 'r', 'l', 'd', '!']\n"
     ]
    }
   ],
   "source": [
    "zero_list = [0] * 5\n",
    "print(zero_list)  # Output: [0, 0, 0, 0, 0]\n",
    "\n",
    "# list concatenation\n",
    "list1 = [1, 2, 3]\n",
    "list2 = [4, 5, 6]\n",
    "combined_list = list1 + list2\n",
    "print(combined_list)  # Output: [1, 2, 3, 4, 5, 6]\n",
    "\n",
    "# list repetition\n",
    "repeated_list = list1 * 3\n",
    "print(repeated_list)  # Output: [1, 2, 3, 1, 2, 3, 1, 2, 3]\n",
    "\n",
    "# list membership\n",
    "a = 1 in list1\n",
    "print(a)  # Output: True\n",
    "\n",
    "b = 7 in list1\n",
    "print(b)  # Output: False\n",
    "\n",
    "# list length\n",
    "length = len(list1)\n",
    "print(length)  # Output: 3\n",
    "\n",
    "# list and range function\n",
    "new_list = list(range(10))\n",
    "print(new_list)  # Output: [0, 1, 2, 3, 4, 5, 6, 7, 8, 9]\n",
    "\n",
    "message = \"Hello, World!\"\n",
    "characters = list(message)\n",
    "print(characters)  # Output: ['H', 'e', 'l', 'l', 'o', ',', ' ', 'W', 'o', 'r', 'l', 'd', '!']"
   ]
  },
  {
   "cell_type": "code",
   "execution_count": 42,
   "id": "ed0a6f57",
   "metadata": {},
   "outputs": [
    {
     "name": "stdout",
     "output_type": "stream",
     "text": [
      "4\n",
      "8\n",
      "6\n"
     ]
    }
   ],
   "source": [
    "# list unpacking\n",
    "numbered_list = [4, 8, 6]\n",
    "a, b, c = numbered_list\n",
    "print(a)  # Output: 4\n",
    "print(b)  # Output: 8\n",
    "print(c)  # Output: 6"
   ]
  },
  {
   "cell_type": "code",
   "execution_count": 43,
   "id": "65910dd0",
   "metadata": {},
   "outputs": [
    {
     "name": "stdout",
     "output_type": "stream",
     "text": [
      "1\n",
      "[2, 3, 4, 5, 6, 7, 8, 9]\n",
      "10\n"
     ]
    }
   ],
   "source": [
    "another_list = [1,2,3,4,5,6,7,8,9,10]\n",
    "x, *y, z = another_list\n",
    "print(x)  # Output: 1\n",
    "print(y)  # Output: [2, 3, 4, 5, 6, 7, 8]\n",
    "print(z)  # Output: 10"
   ]
  },
  {
   "cell_type": "code",
   "execution_count": 44,
   "id": "be17a062",
   "metadata": {},
   "outputs": [
    {
     "name": "stdout",
     "output_type": "stream",
     "text": [
      "1\n",
      "2\n",
      "[3, 4, 5, 6, 7, 8, 9]\n",
      "10\n"
     ]
    }
   ],
   "source": [
    "another_list = [1,2,3,4,5,6,7,8,9,10]\n",
    "a, b, *c,d = another_list\n",
    "print(a)  # Output: 1\n",
    "print(b)  # Output: [2, 3, 4, 5, 6, 7, 8]\n",
    "print(c)  # Output: 9\n",
    "print(d)  # Output: 10"
   ]
  },
  {
   "cell_type": "markdown",
   "id": "7611d85e",
   "metadata": {},
   "source": [
    "# **3rd May 2025**"
   ]
  },
  {
   "cell_type": "code",
   "execution_count": null,
   "id": "a8fdf071",
   "metadata": {},
   "outputs": [
    {
     "name": "stdout",
     "output_type": "stream",
     "text": [
      "Ali\n"
     ]
    }
   ],
   "source": [
    "## dictionary vs list\n",
    "\n",
    "student_name =[\"Ali\", \"Ahmed\", \"Sara\"]\n",
    "print(student_name[0])  # Output: Ali\n"
   ]
  },
  {
   "cell_type": "code",
   "execution_count": 47,
   "id": "0d35efa5",
   "metadata": {},
   "outputs": [
    {
     "name": "stdout",
     "output_type": "stream",
     "text": [
      "1\n"
     ]
    }
   ],
   "source": [
    "student_name_with_dic : dict[str,int] = {\n",
    "    \"Ali\": 1,\n",
    "    \"Ahmed\": 2,\n",
    "    \"Sara\": 3\n",
    "}\n",
    "\n",
    "print(student_name_with_dic[\"Ali\"])  # Output: 1"
   ]
  },
  {
   "cell_type": "code",
   "execution_count": 48,
   "id": "1cf7c5c0",
   "metadata": {},
   "outputs": [
    {
     "data": {
      "text/plain": [
       "['__class__',\n",
       " '__class_getitem__',\n",
       " '__contains__',\n",
       " '__delattr__',\n",
       " '__delitem__',\n",
       " '__dir__',\n",
       " '__doc__',\n",
       " '__eq__',\n",
       " '__format__',\n",
       " '__ge__',\n",
       " '__getattribute__',\n",
       " '__getitem__',\n",
       " '__getstate__',\n",
       " '__gt__',\n",
       " '__hash__',\n",
       " '__init__',\n",
       " '__init_subclass__',\n",
       " '__ior__',\n",
       " '__iter__',\n",
       " '__le__',\n",
       " '__len__',\n",
       " '__lt__',\n",
       " '__ne__',\n",
       " '__new__',\n",
       " '__or__',\n",
       " '__reduce__',\n",
       " '__reduce_ex__',\n",
       " '__repr__',\n",
       " '__reversed__',\n",
       " '__ror__',\n",
       " '__setattr__',\n",
       " '__setitem__',\n",
       " '__sizeof__',\n",
       " '__str__',\n",
       " '__subclasshook__',\n",
       " 'clear',\n",
       " 'copy',\n",
       " 'fromkeys',\n",
       " 'get',\n",
       " 'items',\n",
       " 'keys',\n",
       " 'pop',\n",
       " 'popitem',\n",
       " 'setdefault',\n",
       " 'update',\n",
       " 'values']"
      ]
     },
     "execution_count": 48,
     "metadata": {},
     "output_type": "execute_result"
    }
   ],
   "source": [
    "## How to get the dic  list \n",
    "\n",
    "dir(dict)"
   ]
  },
  {
   "cell_type": "code",
   "execution_count": 97,
   "id": "036e1b31",
   "metadata": {},
   "outputs": [
    {
     "name": "stdout",
     "output_type": "stream",
     "text": [
      "dict_keys(['Ali', 'Ahmed', 'Sara'])\n",
      "dict_values([1, 2, 3])\n",
      "dict_items([('Ali', 1), ('Ahmed', 2), ('Sara', 3)])\n"
     ]
    }
   ],
   "source": [
    "student_name: dict[str,int] = {\n",
    "    \"Ali\": 1,\n",
    "    \"Ahmed\": 2,\n",
    "    \"Sara\": 3\n",
    "}\n",
    "\n",
    "print(student_name.keys())  # Output: dict_keys(['Ali', 'Ahmed', 'Sara'])\n",
    "print(student_name.values())  # Output: dict_values([1, 2, 3])\n",
    "print(student_name.items())  # Output: dict_items([('Ali', 1), ('Ahmed', 2), ('Sara', 3)])\n"
   ]
  },
  {
   "cell_type": "code",
   "execution_count": 59,
   "id": "780a3be7",
   "metadata": {},
   "outputs": [
    {
     "data": {
      "text/plain": [
       "{}"
      ]
     },
     "execution_count": 59,
     "metadata": {},
     "output_type": "execute_result"
    }
   ],
   "source": [
    "## how to use the clear funtion in the dic\n",
    "## this will remove all the items from the dictionary but keep the dictionary object itself.with empty dictionary.\n",
    "\n",
    "student_name.clear()\n",
    "student_name\n"
   ]
  },
  {
   "cell_type": "code",
   "execution_count": 65,
   "id": "4a71deee",
   "metadata": {},
   "outputs": [
    {
     "name": "stdout",
     "output_type": "stream",
     "text": [
      "{'Ahmed': 2, 'Sara': 3}\n"
     ]
    }
   ],
   "source": [
    "## pop function in the dic\n",
    "\n",
    "student_name.pop(\"Ali\")  # Removes the key \"Ali\" and its value from the dictionary\n",
    "print(student_name)  # Output: {'Ahmed': 2, 'Sara': 3}"
   ]
  },
  {
   "cell_type": "code",
   "execution_count": 71,
   "id": "66356f59",
   "metadata": {},
   "outputs": [
    {
     "name": "stdout",
     "output_type": "stream",
     "text": [
      "None\n",
      "Not Found\n",
      "100\n"
     ]
    }
   ],
   "source": [
    "## get function in the dic\n",
    "\n",
    "student_name = {\n",
    "    \"Ali\": 1,\n",
    "    \"Ahmed\": 2,\n",
    "    \"Sara\": 3\n",
    "}\n",
    "print(student_name.get(\"Danish\"))\n",
    "print(student_name.get(\"Qasim\", \"Not Found\"))  # Output: Not Found\n",
    "print(student_name.get(\"Awais\", 100))  # Output: 1"
   ]
  },
  {
   "cell_type": "code",
   "execution_count": 72,
   "id": "f90e471a",
   "metadata": {},
   "outputs": [
    {
     "data": {
      "text/plain": [
       "{'Ali': 1, 'Ahmed': 2, 'Sara': 3}"
      ]
     },
     "execution_count": 72,
     "metadata": {},
     "output_type": "execute_result"
    }
   ],
   "source": [
    "student_name"
   ]
  },
  {
   "cell_type": "markdown",
   "id": "dcf470ee",
   "metadata": {},
   "source": [
    "🧸 Shallow Copy – Sharing the Same Toy\n",
    "You and your best friend are playing with one teddy bear.\n",
    "If your friend draws on the teddy bear’s face with a marker,\n",
    "your teddy bear is also dirty, because it's the same teddy bear!\n",
    "\n",
    "🧸 Deep Copy – Getting Your Own Teddy\n",
    "Now imagine you both have your own teddy bears that look the same.\n",
    "If your friend draws on their teddy bear,\n",
    "your teddy bear stays clean, because it’s a different one!\n",
    "\n",
    "Summary:\n",
    "Shallow copy = sharing the same toy\n",
    "\n",
    "Deep copy = getting your own toy"
   ]
  },
  {
   "cell_type": "code",
   "execution_count": 86,
   "id": "25e9213e",
   "metadata": {},
   "outputs": [
    {
     "name": "stdout",
     "output_type": "stream",
     "text": [
      "['Cat']\n",
      "['dirty teddy']\n"
     ]
    }
   ],
   "source": [
    "import copy\n",
    "\n",
    "my_toy = [\"Cat\"]\n",
    "\n",
    "friend_toy = copy.copy(my_toy)  # You give a copy to your friend (but it's shallow)\n",
    "\n",
    "friend_toy[0] = \"dirty teddy\"  # Your friend changes the toy\n",
    "\n",
    "print(my_toy)\n",
    "print(friend_toy)"
   ]
  },
  {
   "cell_type": "code",
   "execution_count": 80,
   "id": "9f17df5e",
   "metadata": {},
   "outputs": [
    {
     "name": "stdout",
     "output_type": "stream",
     "text": [
      "My Toy: ['teddy']\n",
      "Friend's Toy: ['dirty teddy']\n"
     ]
    }
   ],
   "source": [
    "import copy\n",
    "\n",
    "my_toy = [\"teddy\"]  # You have a toy\n",
    "\n",
    "friend_toy = copy.copy(my_toy)  # You give a copy to your friend (but it's shallow)\n",
    "\n",
    "friend_toy[0] = \"dirty teddy\"  # Your friend changes the toy\n",
    "\n",
    "print(\"My Toy:\", my_toy)        # Uh-oh! Your toy also changed!\n",
    "print(\"Friend's Toy:\", friend_toy)\n"
   ]
  },
  {
   "cell_type": "markdown",
   "id": "0a14d75f",
   "metadata": {},
   "source": [
    "# 🧸 DEEP COPY — New toy for friend"
   ]
  },
  {
   "cell_type": "code",
   "execution_count": 87,
   "id": "c06663e1",
   "metadata": {},
   "outputs": [
    {
     "name": "stdout",
     "output_type": "stream",
     "text": [
      "My Toy: ['CAT']\n",
      "Friend's Toy: ['LION']\n"
     ]
    }
   ],
   "source": [
    "import copy\n",
    "\n",
    "my_toy = [\"CAT\"]\n",
    "friend_toy = copy.deepcopy(my_toy)  # You give a deep copy to your friend\n",
    "friend_toy[0] = \"LION\"  # Your friend changes the toy\n",
    "\n",
    "print(\"My Toy:\", my_toy)        # Your toy remains unchanged\n",
    "print(\"Friend's Toy:\", friend_toy)  # Your friend's toy is changed"
   ]
  },
  {
   "cell_type": "code",
   "execution_count": 89,
   "id": "28c3f0aa",
   "metadata": {},
   "outputs": [
    {
     "name": "stdout",
     "output_type": "stream",
     "text": [
      "Original: [1, 2, 3]\n",
      "Shallow Copy: [1, 2, 3]\n"
     ]
    }
   ],
   "source": [
    "import copy\n",
    "\n",
    "original = [1, 2, 3]\n",
    "shallow_copy = copy.copy(original)\n",
    "\n",
    "# You only read the data; no one changes it.\n",
    "print(\"Original:\", original)  # Output: Original: [1, 2, 3]\n",
    "print(\"Shallow Copy:\", shallow_copy)  # Output: Shallow Copy: [1, 2, 3]"
   ]
  },
  {
   "cell_type": "code",
   "execution_count": 96,
   "id": "3cd1040c",
   "metadata": {},
   "outputs": [
    {
     "name": "stdout",
     "output_type": "stream",
     "text": [
      "Original List: [['Danish', 1248], ['Ali', 1249], ['Ahmed', 1250]]\n",
      "Changed List: [['Shamas', 0], ['Ali', 1249], ['Ahmed', 1250]]\n"
     ]
    }
   ],
   "source": [
    "import copy \n",
    "\n",
    "student_name_with_roll_no =  [[\"Danish\",1248],[\"Ali\",1249],[\"Ahmed\",1250]]\n",
    "\n",
    "change_student_name_with_roll_no = copy.deepcopy(student_name_with_roll_no)\n",
    "\n",
    "change_student_name_with_roll_no[0][0] = \"Shamas\"\n",
    "change_student_name_with_roll_no[0][1] = 000000\n",
    "\n",
    "\n",
    "print(\"Original List:\", student_name_with_roll_no)  # Output: Original List: [['Danish', 1248], ['Ali', 1249], ['Ahmed', 1250]]\n",
    "\n",
    "print(\"Changed List:\", change_student_name_with_roll_no)  # Output: Changed List: [['Ali', 0], ['Ali', 1249], ['Ahmed', 1250]]"
   ]
  },
  {
   "cell_type": "markdown",
   "id": "363f9207",
   "metadata": {},
   "source": [
    "update() adds or changes key-value pairs in a dictionary."
   ]
  },
  {
   "cell_type": "code",
   "execution_count": 102,
   "id": "57b12322",
   "metadata": {},
   "outputs": [
    {
     "name": "stdout",
     "output_type": "stream",
     "text": [
      "{'APPLE': 1, 'BANANA': 2, 'ORANGE': 3}\n",
      "{'APPLE': 1, 'BANANA': 2, 'ORANGE': 3, 'MANGO': 4}\n",
      "{'APPLE': 5, 'BANANA': 2, 'ORANGE': 3, 'MANGO': 4}\n"
     ]
    }
   ],
   "source": [
    "fruit = {\"APPLE\":1, \"BANANA\":2, \"ORANGE\":3}\n",
    "print(fruit)  # Output: {'APPLE': 1, 'BANANA': 2, 'ORANGE': 3}\n",
    "fruit.update({\"MANGO\":4})\n",
    "print(fruit)  # Output: {'APPLE': 1, 'BANANA': 2, 'ORANGE': 3, 'MANGO': 4}\n",
    "fruit.update({\"APPLE\":5})\n",
    "print(fruit)  # Output: {'APPLE': 5, 'BANANA': 2, 'ORANGE': 3, 'MANGO': 4}"
   ]
  },
  {
   "cell_type": "markdown",
   "id": "2b40c2ba",
   "metadata": {},
   "source": [
    "For loop function used in dict"
   ]
  },
  {
   "cell_type": "code",
   "execution_count": 110,
   "id": "97b644e5",
   "metadata": {},
   "outputs": [
    {
     "name": "stdout",
     "output_type": "stream",
     "text": [
      "5\n",
      "2\n",
      "3\n",
      "4\n"
     ]
    }
   ],
   "source": [
    "fruit = {\"apple\": 5, \"banana\": 2, \"cherry\": 3, \"orange\": 4}\n",
    "    \n",
    "for value in fruit.values():\n",
    "    print(value)  # Output: 5, 2, 3, 4 (each on a new line)"
   ]
  },
  {
   "cell_type": "code",
   "execution_count": 111,
   "id": "2c9c4aba",
   "metadata": {},
   "outputs": [
    {
     "name": "stdout",
     "output_type": "stream",
     "text": [
      "apple\n",
      "banana\n",
      "cherry\n",
      "orange\n"
     ]
    }
   ],
   "source": [
    "for keys in fruit.keys():\n",
    "    print(keys)  # Output: apple, banana, cherry, orange (each on a new line)"
   ]
  },
  {
   "cell_type": "code",
   "execution_count": 116,
   "id": "a588e6fa",
   "metadata": {},
   "outputs": [
    {
     "name": "stdout",
     "output_type": "stream",
     "text": [
      "apple 5\n",
      "banana 2\n",
      "cherry 3\n",
      "orange 4\n"
     ]
    }
   ],
   "source": [
    "for key,value in fruit.items():\n",
    "    print(key,value)  # Output: 5, 2, 3, "
   ]
  },
  {
   "cell_type": "markdown",
   "id": "e62cba3e",
   "metadata": {},
   "source": [
    "list and tuple update then check what effect on memoru Addres\n"
   ]
  },
  {
   "cell_type": "code",
   "execution_count": 119,
   "id": "ef4e0906",
   "metadata": {},
   "outputs": [
    {
     "name": "stdout",
     "output_type": "stream",
     "text": [
      "[1, 2, 3]\n",
      "memmory 2701828747840\n",
      "[1, 2, 3, 4]\n",
      "memmory 2701828747840\n"
     ]
    }
   ],
   "source": [
    "list1 = [1, 2, 3]\n",
    "print(list1)  # Output: [1, 2, 3]\n",
    "\n",
    "print(\"memmory\",id(list1))  # Output: memory address of list1\n",
    "list1.append(4)  # Append 4 to list1\n",
    "print(list1)  # Output: [1, 2, 3, 4]\n",
    "print(\"memmory\",id(list1))  # Output: memory address of list1 (same as before)\n"
   ]
  },
  {
   "cell_type": "code",
   "execution_count": 121,
   "id": "89732d98",
   "metadata": {},
   "outputs": [
    {
     "name": "stdout",
     "output_type": "stream",
     "text": [
      "(1, 2, 3)\n",
      "memmory 2701829433344\n",
      "(1, 2, 3, 4)\n",
      "memmory 2701828908880\n"
     ]
    }
   ],
   "source": [
    "tup = (1, 2, 3)\n",
    "print(tup)  # Output: (1, 2, 3)\n",
    "print(\"memmory\",id(tup))  # Output: memory address of tup\n",
    "tup = (1, 2, 3, 4)  # Reassign tup to a new tuple\n",
    "print(tup)  # Output: (1, 2, 3, 4)  \n",
    "print(\"memmory\",id(tup))  # Output: memory address of tup (different from before)"
   ]
  },
  {
   "cell_type": "markdown",
   "id": "216f8069",
   "metadata": {},
   "source": [
    "Max and Min value find in tuple and List"
   ]
  },
  {
   "cell_type": "code",
   "execution_count": 123,
   "id": "b0eb1cc3",
   "metadata": {},
   "outputs": [
    {
     "name": "stdout",
     "output_type": "stream",
     "text": [
      "3\n",
      "1\n"
     ]
    }
   ],
   "source": [
    "list = [1, 2, 3]\n",
    "print(max(list))  # Output: 3\n",
    "print(min(list))  # Output: 1"
   ]
  },
  {
   "cell_type": "code",
   "execution_count": 128,
   "id": "e7b07a27",
   "metadata": {},
   "outputs": [
    {
     "name": "stdout",
     "output_type": "stream",
     "text": [
      "2\n",
      "1000\n",
      "0\n",
      "1\n"
     ]
    }
   ],
   "source": [
    "tuple1 = (1, 2, 0)\n",
    "print(max(tuple1))  # Output: 3\n",
    "tuple2 = (1, 2, 3, 4, 5,1000)\n",
    "print(max(tuple2))  # Output: 1000\n",
    "print(min(tuple1))  # Output: 0\n",
    "print(min(tuple2))  # Output: 1"
   ]
  },
  {
   "cell_type": "markdown",
   "id": "b37b7e58",
   "metadata": {},
   "source": [
    "Len function apply on Tuple and List"
   ]
  },
  {
   "cell_type": "code",
   "execution_count": 130,
   "id": "55d430f3",
   "metadata": {},
   "outputs": [
    {
     "name": "stdout",
     "output_type": "stream",
     "text": [
      "3\n",
      "23\n"
     ]
    }
   ],
   "source": [
    "list1 = [1, 2, 3]\n",
    "print(len(list1))  # Output: \n",
    "\n",
    "tuple1 = (1, 2, 3,4,5,8,97,4,5,5,4,5,4,5,4,5,4,5,4,5,4,5,4)\n",
    "print(len(tuple1))  # Output: 20"
   ]
  },
  {
   "cell_type": "markdown",
   "id": "36d70a8a",
   "metadata": {},
   "source": [
    "Python can \"unpack\" things like lists, tuples, or dictionary items into separate variables."
   ]
  },
  {
   "cell_type": "code",
   "execution_count": 132,
   "id": "6fae8508",
   "metadata": {},
   "outputs": [
    {
     "name": "stdout",
     "output_type": "stream",
     "text": [
      "apple\n",
      "banana\n",
      "cherry\n"
     ]
    }
   ],
   "source": [
    "fruit  = [\"apple\", \"banana\", \"cherry\"]\n",
    "\n",
    "fruit1,fruit2,fruit3 = fruit\n",
    "\n",
    "print(fruit1)  # Output: apple\n",
    "print(fruit2)  # Output: banana\n",
    "print(fruit3)  # Output: cherry"
   ]
  },
  {
   "cell_type": "code",
   "execution_count": 133,
   "id": "0a558842",
   "metadata": {},
   "outputs": [
    {
     "name": "stdout",
     "output_type": "stream",
     "text": [
      "apple 5\n",
      "banana 2\n",
      "cherry 3\n",
      "orange 4\n"
     ]
    }
   ],
   "source": [
    "fruit = {\"apple\": 5, \"banana\": 2, \"cherry\": 3, \"orange\": 4}\n",
    "\n",
    "for fruit,price in fruit.items():\n",
    "    print(fruit, price)  # Output: apple 5, banana 2, cherry 3, orange 4 (each on a new line)"
   ]
  },
  {
   "cell_type": "code",
   "execution_count": null,
   "id": "4141d2d9",
   "metadata": {},
   "outputs": [],
   "source": [
    "fruits = [\"apple\", \"banana\", \"cherry\"]\n",
    "\n",
    "a, b = fruits  # ❌ Too many values\n",
    "ValueError: too many values to unpack (expected 2)"
   ]
  }
 ],
 "metadata": {
  "kernelspec": {
   "display_name": "ai_irfan",
   "language": "python",
   "name": "python3"
  },
  "language_info": {
   "codemirror_mode": {
    "name": "ipython",
    "version": 3
   },
   "file_extension": ".py",
   "mimetype": "text/x-python",
   "name": "python",
   "nbconvert_exporter": "python",
   "pygments_lexer": "ipython3",
   "version": "3.11.3"
  }
 },
 "nbformat": 4,
 "nbformat_minor": 5
}
