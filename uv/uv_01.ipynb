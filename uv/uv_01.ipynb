{
 "cells": [
  {
   "cell_type": "markdown",
   "id": "2c70acb1",
   "metadata": {},
   "source": [
    "This command sets up a project structured for packaging, placing your code inside a src directory, aligning with best practices for Python project structure\n",
    "\n",
    "uv version\n",
    "\n",
    "uv help\n",
    "\n",
    "\n",
    "Explore the UV by using this cmd and get the directry used in\n",
    "\n",
    "write this cmd in terminal\n",
    "\n",
    "1. uv init --package explore-uv(name of file)\n",
    "2. cd explore-uv\n",
    "3. code .\n",
    "4. uv venv\n",
    "5. \\explore-uv\\.venv\\Scripts\\activate\n",
    "6. uv run explore-uv\n",
    "\n",
    "\n",
    "This command sets up a project structured for packaging, placing your code inside a src directory, aligning with best practices for Python project structures."
   ]
  }
 ],
 "metadata": {
  "language_info": {
   "name": "python"
  }
 },
 "nbformat": 4,
 "nbformat_minor": 5
}
